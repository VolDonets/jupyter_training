{
 "cells": [
  {
   "cell_type": "code",
   "execution_count": 1,
   "id": "d235b8b9-bad9-4ec2-9490-a1b0ef7a0d3f",
   "metadata": {},
   "outputs": [
    {
     "name": "stdout",
     "output_type": "stream",
     "text": [
      "hello world\n"
     ]
    }
   ],
   "source": [
    "print(\"hello world\")"
   ]
  },
  {
   "cell_type": "markdown",
   "id": "dd760444-9a28-4d6b-b3a2-8fb493e85dad",
   "metadata": {},
   "source": [
    "penis is huge"
   ]
  },
  {
   "cell_type": "markdown",
   "id": "d12d12e7-911a-4928-a6da-8106aadfdda2",
   "metadata": {},
   "source": [
    "not a code"
   ]
  },
  {
   "cell_type": "code",
   "execution_count": 2,
   "id": "6c6cb9c4-2951-4f48-a7d0-67af65ce7562",
   "metadata": {},
   "outputs": [
    {
     "name": "stdout",
     "output_type": "stream",
     "text": [
      "this is a code\n"
     ]
    }
   ],
   "source": [
    "print(\"this is a code\")"
   ]
  },
  {
   "cell_type": "code",
   "execution_count": 3,
   "id": "9ae4e1b2-5a37-4a61-80b7-e35232212464",
   "metadata": {},
   "outputs": [
    {
     "name": "stdout",
     "output_type": "stream",
     "text": [
      "this is the shift key test\n"
     ]
    }
   ],
   "source": [
    "print(\"this is the shift key test\")"
   ]
  },
  {
   "cell_type": "code",
   "execution_count": null,
   "id": "61ddd4a4-6641-4b14-a6bd-0898180573d1",
   "metadata": {},
   "outputs": [],
   "source": []
  },
  {
   "cell_type": "code",
   "execution_count": 5,
   "id": "1396c058-72c1-4018-a6bf-e51f5167056e",
   "metadata": {},
   "outputs": [
    {
     "name": "stdout",
     "output_type": "stream",
     "text": [
      "wow the shift key is works fine\n"
     ]
    }
   ],
   "source": [
    "print(\"wow the shift key is works fine\")"
   ]
  },
  {
   "cell_type": "code",
   "execution_count": null,
   "id": "860fae7e-c56b-4547-abf4-9406f098da57",
   "metadata": {},
   "outputs": [],
   "source": []
  }
 ],
 "metadata": {
  "kernelspec": {
   "display_name": "Python 3",
   "language": "python",
   "name": "python3"
  },
  "language_info": {
   "codemirror_mode": {
    "name": "ipython",
    "version": 3
   },
   "file_extension": ".py",
   "mimetype": "text/x-python",
   "name": "python",
   "nbconvert_exporter": "python",
   "pygments_lexer": "ipython3",
   "version": "3.6.9"
  }
 },
 "nbformat": 4,
 "nbformat_minor": 5
}
