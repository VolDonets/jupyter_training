{
 "cells": [
  {
   "cell_type": "markdown",
   "id": "59113589-8361-4131-9309-36fcab19f74e",
   "metadata": {},
   "source": [
    "# READING HTML TABLES"
   ]
  },
  {
   "cell_type": "code",
   "execution_count": 1,
   "id": "865290df-13a8-464d-8c3e-bce54130dedf",
   "metadata": {},
   "outputs": [],
   "source": [
    "import pandas as pd"
   ]
  },
  {
   "cell_type": "code",
   "execution_count": 2,
   "id": "eac3a92f-b80e-4945-a88e-e734df5bc6fb",
   "metadata": {},
   "outputs": [],
   "source": [
    "html_string = \"\"\"\n",
    "<table>\n",
    "    <thead>\n",
    "      <tr>\n",
    "        <th>Order date</th>\n",
    "        <th>Region</th> \n",
    "        <th>Item</th>\n",
    "        <th>Units</th>\n",
    "        <th>Unit cost</th>\n",
    "      </tr>\n",
    "    </thead>\n",
    "    <tbody>\n",
    "      <tr>\n",
    "        <td>1/6/2018</td>\n",
    "        <td>East</td> \n",
    "        <td>Pencil</td>\n",
    "        <td>95</td>\n",
    "        <td>1.99</td>\n",
    "      </tr>\n",
    "      <tr>\n",
    "        <td>1/23/2018</td>\n",
    "        <td>Central</td> \n",
    "        <td>Binder</td>\n",
    "        <td>50</td>\n",
    "        <td>19.99</td>\n",
    "      </tr>\n",
    "      <tr>\n",
    "        <td>2/9/2018</td>\n",
    "        <td>Central</td> \n",
    "        <td>Pencil</td>\n",
    "        <td>36</td>\n",
    "        <td>4.99</td>\n",
    "      </tr>\n",
    "      <tr>\n",
    "        <td>3/15/2018</td>\n",
    "        <td>West</td> \n",
    "        <td>Pen</td>\n",
    "        <td>27</td>\n",
    "        <td>19.99</td>\n",
    "      </tr>\n",
    "    </tbody>\n",
    "</table>\n",
    "\"\"\""
   ]
  },
  {
   "cell_type": "code",
   "execution_count": 3,
   "id": "e1b4a0f5-674e-4361-b936-6adef8a6fbbf",
   "metadata": {},
   "outputs": [
    {
     "data": {
      "text/html": [
       "\n",
       "<table>\n",
       "    <thead>\n",
       "      <tr>\n",
       "        <th>Order date</th>\n",
       "        <th>Region</th> \n",
       "        <th>Item</th>\n",
       "        <th>Units</th>\n",
       "        <th>Unit cost</th>\n",
       "      </tr>\n",
       "    </thead>\n",
       "    <tbody>\n",
       "      <tr>\n",
       "        <td>1/6/2018</td>\n",
       "        <td>East</td> \n",
       "        <td>Pencil</td>\n",
       "        <td>95</td>\n",
       "        <td>1.99</td>\n",
       "      </tr>\n",
       "      <tr>\n",
       "        <td>1/23/2018</td>\n",
       "        <td>Central</td> \n",
       "        <td>Binder</td>\n",
       "        <td>50</td>\n",
       "        <td>19.99</td>\n",
       "      </tr>\n",
       "      <tr>\n",
       "        <td>2/9/2018</td>\n",
       "        <td>Central</td> \n",
       "        <td>Pencil</td>\n",
       "        <td>36</td>\n",
       "        <td>4.99</td>\n",
       "      </tr>\n",
       "      <tr>\n",
       "        <td>3/15/2018</td>\n",
       "        <td>West</td> \n",
       "        <td>Pen</td>\n",
       "        <td>27</td>\n",
       "        <td>19.99</td>\n",
       "      </tr>\n",
       "    </tbody>\n",
       "</table>\n"
      ],
      "text/plain": [
       "<IPython.core.display.HTML object>"
      ]
     },
     "metadata": {},
     "output_type": "display_data"
    }
   ],
   "source": [
    "from IPython.core.display import display, HTML\n",
    "display(HTML(html_string))"
   ]
  },
  {
   "cell_type": "code",
   "execution_count": 4,
   "id": "d2a63e90-f9b5-43f7-aeed-adc9d2ab00a1",
   "metadata": {},
   "outputs": [],
   "source": [
    "dfs = pd.read_html(html_string)"
   ]
  },
  {
   "cell_type": "code",
   "execution_count": 5,
   "id": "97f29feb-8e7d-42d5-9e50-97b177718b57",
   "metadata": {},
   "outputs": [
    {
     "data": {
      "text/plain": [
       "[  Order date   Region    Item  Units  Unit cost\n",
       " 0   1/6/2018     East  Pencil     95       1.99\n",
       " 1  1/23/2018  Central  Binder     50      19.99\n",
       " 2   2/9/2018  Central  Pencil     36       4.99\n",
       " 3  3/15/2018     West     Pen     27      19.99]"
      ]
     },
     "execution_count": 5,
     "metadata": {},
     "output_type": "execute_result"
    }
   ],
   "source": [
    "dfs"
   ]
  },
  {
   "cell_type": "code",
   "execution_count": 6,
   "id": "2ec76835-b973-4a20-90a5-a4c2f1b35086",
   "metadata": {},
   "outputs": [
    {
     "data": {
      "text/plain": [
       "1"
      ]
     },
     "execution_count": 6,
     "metadata": {},
     "output_type": "execute_result"
    }
   ],
   "source": [
    "len(dfs)"
   ]
  },
  {
   "cell_type": "code",
   "execution_count": 7,
   "id": "2ef9f326-07a8-4d47-a605-16b000d02e48",
   "metadata": {},
   "outputs": [],
   "source": [
    "df = dfs[0]"
   ]
  },
  {
   "cell_type": "code",
   "execution_count": 8,
   "id": "5fa72df1-0b3f-4e9f-9f1d-dcf070ccda8d",
   "metadata": {},
   "outputs": [
    {
     "data": {
      "text/html": [
       "<div>\n",
       "<style scoped>\n",
       "    .dataframe tbody tr th:only-of-type {\n",
       "        vertical-align: middle;\n",
       "    }\n",
       "\n",
       "    .dataframe tbody tr th {\n",
       "        vertical-align: top;\n",
       "    }\n",
       "\n",
       "    .dataframe thead th {\n",
       "        text-align: right;\n",
       "    }\n",
       "</style>\n",
       "<table border=\"1\" class=\"dataframe\">\n",
       "  <thead>\n",
       "    <tr style=\"text-align: right;\">\n",
       "      <th></th>\n",
       "      <th>Order date</th>\n",
       "      <th>Region</th>\n",
       "      <th>Item</th>\n",
       "      <th>Units</th>\n",
       "      <th>Unit cost</th>\n",
       "    </tr>\n",
       "  </thead>\n",
       "  <tbody>\n",
       "    <tr>\n",
       "      <th>0</th>\n",
       "      <td>1/6/2018</td>\n",
       "      <td>East</td>\n",
       "      <td>Pencil</td>\n",
       "      <td>95</td>\n",
       "      <td>1.99</td>\n",
       "    </tr>\n",
       "    <tr>\n",
       "      <th>1</th>\n",
       "      <td>1/23/2018</td>\n",
       "      <td>Central</td>\n",
       "      <td>Binder</td>\n",
       "      <td>50</td>\n",
       "      <td>19.99</td>\n",
       "    </tr>\n",
       "    <tr>\n",
       "      <th>2</th>\n",
       "      <td>2/9/2018</td>\n",
       "      <td>Central</td>\n",
       "      <td>Pencil</td>\n",
       "      <td>36</td>\n",
       "      <td>4.99</td>\n",
       "    </tr>\n",
       "    <tr>\n",
       "      <th>3</th>\n",
       "      <td>3/15/2018</td>\n",
       "      <td>West</td>\n",
       "      <td>Pen</td>\n",
       "      <td>27</td>\n",
       "      <td>19.99</td>\n",
       "    </tr>\n",
       "  </tbody>\n",
       "</table>\n",
       "</div>"
      ],
      "text/plain": [
       "  Order date   Region    Item  Units  Unit cost\n",
       "0   1/6/2018     East  Pencil     95       1.99\n",
       "1  1/23/2018  Central  Binder     50      19.99\n",
       "2   2/9/2018  Central  Pencil     36       4.99\n",
       "3  3/15/2018     West     Pen     27      19.99"
      ]
     },
     "execution_count": 8,
     "metadata": {},
     "output_type": "execute_result"
    }
   ],
   "source": [
    "df"
   ]
  },
  {
   "cell_type": "code",
   "execution_count": 9,
   "id": "d3fbf6d7-f45c-44bb-9b79-50d30cfa4383",
   "metadata": {},
   "outputs": [
    {
     "data": {
      "text/plain": [
       "(4, 5)"
      ]
     },
     "execution_count": 9,
     "metadata": {},
     "output_type": "execute_result"
    }
   ],
   "source": [
    "df.shape"
   ]
  },
  {
   "cell_type": "code",
   "execution_count": 10,
   "id": "48e103a4-b0ae-4a61-b89d-955ee634578d",
   "metadata": {},
   "outputs": [
    {
     "data": {
      "text/html": [
       "<div>\n",
       "<style scoped>\n",
       "    .dataframe tbody tr th:only-of-type {\n",
       "        vertical-align: middle;\n",
       "    }\n",
       "\n",
       "    .dataframe tbody tr th {\n",
       "        vertical-align: top;\n",
       "    }\n",
       "\n",
       "    .dataframe thead th {\n",
       "        text-align: right;\n",
       "    }\n",
       "</style>\n",
       "<table border=\"1\" class=\"dataframe\">\n",
       "  <thead>\n",
       "    <tr style=\"text-align: right;\">\n",
       "      <th></th>\n",
       "      <th>Order date</th>\n",
       "      <th>Region</th>\n",
       "      <th>Item</th>\n",
       "      <th>Units</th>\n",
       "      <th>Unit cost</th>\n",
       "    </tr>\n",
       "  </thead>\n",
       "  <tbody>\n",
       "    <tr>\n",
       "      <th>1</th>\n",
       "      <td>1/23/2018</td>\n",
       "      <td>Central</td>\n",
       "      <td>Binder</td>\n",
       "      <td>50</td>\n",
       "      <td>19.99</td>\n",
       "    </tr>\n",
       "    <tr>\n",
       "      <th>2</th>\n",
       "      <td>2/9/2018</td>\n",
       "      <td>Central</td>\n",
       "      <td>Pencil</td>\n",
       "      <td>36</td>\n",
       "      <td>4.99</td>\n",
       "    </tr>\n",
       "  </tbody>\n",
       "</table>\n",
       "</div>"
      ],
      "text/plain": [
       "  Order date   Region    Item  Units  Unit cost\n",
       "1  1/23/2018  Central  Binder     50      19.99\n",
       "2   2/9/2018  Central  Pencil     36       4.99"
      ]
     },
     "execution_count": 10,
     "metadata": {},
     "output_type": "execute_result"
    }
   ],
   "source": [
    "df.loc[df['Region'] == 'Central']"
   ]
  },
  {
   "cell_type": "code",
   "execution_count": 11,
   "id": "7df88efa-d6f0-4127-8017-c87fd67b504f",
   "metadata": {},
   "outputs": [
    {
     "data": {
      "text/html": [
       "<div>\n",
       "<style scoped>\n",
       "    .dataframe tbody tr th:only-of-type {\n",
       "        vertical-align: middle;\n",
       "    }\n",
       "\n",
       "    .dataframe tbody tr th {\n",
       "        vertical-align: top;\n",
       "    }\n",
       "\n",
       "    .dataframe thead th {\n",
       "        text-align: right;\n",
       "    }\n",
       "</style>\n",
       "<table border=\"1\" class=\"dataframe\">\n",
       "  <thead>\n",
       "    <tr style=\"text-align: right;\">\n",
       "      <th></th>\n",
       "      <th>Order date</th>\n",
       "      <th>Region</th>\n",
       "      <th>Item</th>\n",
       "      <th>Units</th>\n",
       "      <th>Unit cost</th>\n",
       "    </tr>\n",
       "  </thead>\n",
       "  <tbody>\n",
       "    <tr>\n",
       "      <th>0</th>\n",
       "      <td>1/6/2018</td>\n",
       "      <td>East</td>\n",
       "      <td>Pencil</td>\n",
       "      <td>95</td>\n",
       "      <td>1.99</td>\n",
       "    </tr>\n",
       "    <tr>\n",
       "      <th>1</th>\n",
       "      <td>1/23/2018</td>\n",
       "      <td>Central</td>\n",
       "      <td>Binder</td>\n",
       "      <td>50</td>\n",
       "      <td>19.99</td>\n",
       "    </tr>\n",
       "    <tr>\n",
       "      <th>2</th>\n",
       "      <td>2/9/2018</td>\n",
       "      <td>Central</td>\n",
       "      <td>Pencil</td>\n",
       "      <td>36</td>\n",
       "      <td>4.99</td>\n",
       "    </tr>\n",
       "  </tbody>\n",
       "</table>\n",
       "</div>"
      ],
      "text/plain": [
       "  Order date   Region    Item  Units  Unit cost\n",
       "0   1/6/2018     East  Pencil     95       1.99\n",
       "1  1/23/2018  Central  Binder     50      19.99\n",
       "2   2/9/2018  Central  Pencil     36       4.99"
      ]
     },
     "execution_count": 11,
     "metadata": {},
     "output_type": "execute_result"
    }
   ],
   "source": [
    "df.loc[df['Units'] > 35]"
   ]
  },
  {
   "cell_type": "code",
   "execution_count": 12,
   "id": "85098199-099b-48df-bf85-c38c02b1f409",
   "metadata": {},
   "outputs": [
    {
     "data": {
      "text/html": [
       "<div>\n",
       "<style scoped>\n",
       "    .dataframe tbody tr th:only-of-type {\n",
       "        vertical-align: middle;\n",
       "    }\n",
       "\n",
       "    .dataframe tbody tr th {\n",
       "        vertical-align: top;\n",
       "    }\n",
       "\n",
       "    .dataframe thead th {\n",
       "        text-align: right;\n",
       "    }\n",
       "</style>\n",
       "<table border=\"1\" class=\"dataframe\">\n",
       "  <thead>\n",
       "    <tr style=\"text-align: right;\">\n",
       "      <th></th>\n",
       "      <th>Order date</th>\n",
       "      <th>Region</th>\n",
       "      <th>Item</th>\n",
       "      <th>Units</th>\n",
       "      <th>Unit cost</th>\n",
       "    </tr>\n",
       "  </thead>\n",
       "  <tbody>\n",
       "    <tr>\n",
       "      <th>0</th>\n",
       "      <td>1/6/2018</td>\n",
       "      <td>East</td>\n",
       "      <td>Pencil</td>\n",
       "      <td>95</td>\n",
       "      <td>1.99</td>\n",
       "    </tr>\n",
       "    <tr>\n",
       "      <th>1</th>\n",
       "      <td>1/23/2018</td>\n",
       "      <td>Central</td>\n",
       "      <td>Binder</td>\n",
       "      <td>50</td>\n",
       "      <td>19.99</td>\n",
       "    </tr>\n",
       "    <tr>\n",
       "      <th>2</th>\n",
       "      <td>2/9/2018</td>\n",
       "      <td>Central</td>\n",
       "      <td>Pencil</td>\n",
       "      <td>36</td>\n",
       "      <td>4.99</td>\n",
       "    </tr>\n",
       "    <tr>\n",
       "      <th>3</th>\n",
       "      <td>3/15/2018</td>\n",
       "      <td>West</td>\n",
       "      <td>Pen</td>\n",
       "      <td>27</td>\n",
       "      <td>19.99</td>\n",
       "    </tr>\n",
       "  </tbody>\n",
       "</table>\n",
       "</div>"
      ],
      "text/plain": [
       "  Order date   Region    Item  Units  Unit cost\n",
       "0   1/6/2018     East  Pencil     95       1.99\n",
       "1  1/23/2018  Central  Binder     50      19.99\n",
       "2   2/9/2018  Central  Pencil     36       4.99\n",
       "3  3/15/2018     West     Pen     27      19.99"
      ]
     },
     "execution_count": 12,
     "metadata": {},
     "output_type": "execute_result"
    }
   ],
   "source": [
    "pd.read_html(html_string)[0]"
   ]
  },
  {
   "cell_type": "code",
   "execution_count": 13,
   "id": "838aa7f4-9b01-4667-bacb-666b410b15e7",
   "metadata": {},
   "outputs": [
    {
     "data": {
      "text/html": [
       "<div>\n",
       "<style scoped>\n",
       "    .dataframe tbody tr th:only-of-type {\n",
       "        vertical-align: middle;\n",
       "    }\n",
       "\n",
       "    .dataframe tbody tr th {\n",
       "        vertical-align: top;\n",
       "    }\n",
       "\n",
       "    .dataframe thead th {\n",
       "        text-align: right;\n",
       "    }\n",
       "</style>\n",
       "<table border=\"1\" class=\"dataframe\">\n",
       "  <thead>\n",
       "    <tr style=\"text-align: right;\">\n",
       "      <th></th>\n",
       "      <th>Order date</th>\n",
       "      <th>Region</th>\n",
       "      <th>Item</th>\n",
       "      <th>Units</th>\n",
       "      <th>Unit cost</th>\n",
       "    </tr>\n",
       "  </thead>\n",
       "  <tbody>\n",
       "    <tr>\n",
       "      <th>0</th>\n",
       "      <td>1/6/2018</td>\n",
       "      <td>East</td>\n",
       "      <td>Pencil</td>\n",
       "      <td>95</td>\n",
       "      <td>1.99</td>\n",
       "    </tr>\n",
       "    <tr>\n",
       "      <th>1</th>\n",
       "      <td>1/23/2018</td>\n",
       "      <td>Central</td>\n",
       "      <td>Binder</td>\n",
       "      <td>50</td>\n",
       "      <td>19.99</td>\n",
       "    </tr>\n",
       "    <tr>\n",
       "      <th>2</th>\n",
       "      <td>2/9/2018</td>\n",
       "      <td>Central</td>\n",
       "      <td>Pencil</td>\n",
       "      <td>36</td>\n",
       "      <td>4.99</td>\n",
       "    </tr>\n",
       "    <tr>\n",
       "      <th>3</th>\n",
       "      <td>3/15/2018</td>\n",
       "      <td>West</td>\n",
       "      <td>Pen</td>\n",
       "      <td>27</td>\n",
       "      <td>19.99</td>\n",
       "    </tr>\n",
       "  </tbody>\n",
       "</table>\n",
       "</div>"
      ],
      "text/plain": [
       "  Order date   Region    Item  Units  Unit cost\n",
       "0   1/6/2018     East  Pencil     95       1.99\n",
       "1  1/23/2018  Central  Binder     50      19.99\n",
       "2   2/9/2018  Central  Pencil     36       4.99\n",
       "3  3/15/2018     West     Pen     27      19.99"
      ]
     },
     "execution_count": 13,
     "metadata": {},
     "output_type": "execute_result"
    }
   ],
   "source": [
    "pd.read_html(html_string, header=0)[0]"
   ]
  },
  {
   "cell_type": "markdown",
   "id": "b79cab21-c047-4599-bfcd-adfc1fc0a0f9",
   "metadata": {},
   "source": [
    "## Parsing HTML from WEB"
   ]
  },
  {
   "cell_type": "code",
   "execution_count": 16,
   "id": "88e69c67-336a-411f-8b1d-8a5c6898fa4c",
   "metadata": {},
   "outputs": [],
   "source": [
    "html_url = \"https://www.basketball-reference.com/leagues/NBA_2019_per_game.html\""
   ]
  },
  {
   "cell_type": "code",
   "execution_count": 17,
   "id": "e95c0b6c-0815-455b-8110-01563d9a3245",
   "metadata": {},
   "outputs": [],
   "source": [
    "nba_tables = pd.read_html(html_url)"
   ]
  },
  {
   "cell_type": "code",
   "execution_count": 18,
   "id": "96ac1c29-c594-48cb-a220-03e84e2927ec",
   "metadata": {},
   "outputs": [
    {
     "data": {
      "text/plain": [
       "1"
      ]
     },
     "execution_count": 18,
     "metadata": {},
     "output_type": "execute_result"
    }
   ],
   "source": [
    "len(nba_tables)"
   ]
  },
  {
   "cell_type": "code",
   "execution_count": 19,
   "id": "2e40b822-eb2d-43d4-bae4-202b2dd1fa0e",
   "metadata": {},
   "outputs": [],
   "source": [
    "nba = nba_tables[0]"
   ]
  },
  {
   "cell_type": "code",
   "execution_count": 20,
   "id": "a3a004d4-37fe-47c8-8d43-a4b45fc9bc88",
   "metadata": {},
   "outputs": [
    {
     "data": {
      "text/html": [
       "<div>\n",
       "<style scoped>\n",
       "    .dataframe tbody tr th:only-of-type {\n",
       "        vertical-align: middle;\n",
       "    }\n",
       "\n",
       "    .dataframe tbody tr th {\n",
       "        vertical-align: top;\n",
       "    }\n",
       "\n",
       "    .dataframe thead th {\n",
       "        text-align: right;\n",
       "    }\n",
       "</style>\n",
       "<table border=\"1\" class=\"dataframe\">\n",
       "  <thead>\n",
       "    <tr style=\"text-align: right;\">\n",
       "      <th></th>\n",
       "      <th>Rk</th>\n",
       "      <th>Player</th>\n",
       "      <th>Pos</th>\n",
       "      <th>Age</th>\n",
       "      <th>Tm</th>\n",
       "      <th>G</th>\n",
       "      <th>GS</th>\n",
       "      <th>MP</th>\n",
       "      <th>FG</th>\n",
       "      <th>FGA</th>\n",
       "      <th>...</th>\n",
       "      <th>FT%</th>\n",
       "      <th>ORB</th>\n",
       "      <th>DRB</th>\n",
       "      <th>TRB</th>\n",
       "      <th>AST</th>\n",
       "      <th>STL</th>\n",
       "      <th>BLK</th>\n",
       "      <th>TOV</th>\n",
       "      <th>PF</th>\n",
       "      <th>PTS</th>\n",
       "    </tr>\n",
       "  </thead>\n",
       "  <tbody>\n",
       "    <tr>\n",
       "      <th>0</th>\n",
       "      <td>1</td>\n",
       "      <td>Álex Abrines</td>\n",
       "      <td>SG</td>\n",
       "      <td>25</td>\n",
       "      <td>OKC</td>\n",
       "      <td>31</td>\n",
       "      <td>2</td>\n",
       "      <td>19.0</td>\n",
       "      <td>1.8</td>\n",
       "      <td>5.1</td>\n",
       "      <td>...</td>\n",
       "      <td>.923</td>\n",
       "      <td>0.2</td>\n",
       "      <td>1.4</td>\n",
       "      <td>1.5</td>\n",
       "      <td>0.6</td>\n",
       "      <td>0.5</td>\n",
       "      <td>0.2</td>\n",
       "      <td>0.5</td>\n",
       "      <td>1.7</td>\n",
       "      <td>5.3</td>\n",
       "    </tr>\n",
       "    <tr>\n",
       "      <th>1</th>\n",
       "      <td>2</td>\n",
       "      <td>Quincy Acy</td>\n",
       "      <td>PF</td>\n",
       "      <td>28</td>\n",
       "      <td>PHO</td>\n",
       "      <td>10</td>\n",
       "      <td>0</td>\n",
       "      <td>12.3</td>\n",
       "      <td>0.4</td>\n",
       "      <td>1.8</td>\n",
       "      <td>...</td>\n",
       "      <td>.700</td>\n",
       "      <td>0.3</td>\n",
       "      <td>2.2</td>\n",
       "      <td>2.5</td>\n",
       "      <td>0.8</td>\n",
       "      <td>0.1</td>\n",
       "      <td>0.4</td>\n",
       "      <td>0.4</td>\n",
       "      <td>2.4</td>\n",
       "      <td>1.7</td>\n",
       "    </tr>\n",
       "    <tr>\n",
       "      <th>2</th>\n",
       "      <td>3</td>\n",
       "      <td>Jaylen Adams</td>\n",
       "      <td>PG</td>\n",
       "      <td>22</td>\n",
       "      <td>ATL</td>\n",
       "      <td>34</td>\n",
       "      <td>1</td>\n",
       "      <td>12.6</td>\n",
       "      <td>1.1</td>\n",
       "      <td>3.2</td>\n",
       "      <td>...</td>\n",
       "      <td>.778</td>\n",
       "      <td>0.3</td>\n",
       "      <td>1.4</td>\n",
       "      <td>1.8</td>\n",
       "      <td>1.9</td>\n",
       "      <td>0.4</td>\n",
       "      <td>0.1</td>\n",
       "      <td>0.8</td>\n",
       "      <td>1.3</td>\n",
       "      <td>3.2</td>\n",
       "    </tr>\n",
       "    <tr>\n",
       "      <th>3</th>\n",
       "      <td>4</td>\n",
       "      <td>Steven Adams</td>\n",
       "      <td>C</td>\n",
       "      <td>25</td>\n",
       "      <td>OKC</td>\n",
       "      <td>80</td>\n",
       "      <td>80</td>\n",
       "      <td>33.4</td>\n",
       "      <td>6.0</td>\n",
       "      <td>10.1</td>\n",
       "      <td>...</td>\n",
       "      <td>.500</td>\n",
       "      <td>4.9</td>\n",
       "      <td>4.6</td>\n",
       "      <td>9.5</td>\n",
       "      <td>1.6</td>\n",
       "      <td>1.5</td>\n",
       "      <td>1.0</td>\n",
       "      <td>1.7</td>\n",
       "      <td>2.6</td>\n",
       "      <td>13.9</td>\n",
       "    </tr>\n",
       "    <tr>\n",
       "      <th>4</th>\n",
       "      <td>5</td>\n",
       "      <td>Bam Adebayo</td>\n",
       "      <td>C</td>\n",
       "      <td>21</td>\n",
       "      <td>MIA</td>\n",
       "      <td>82</td>\n",
       "      <td>28</td>\n",
       "      <td>23.3</td>\n",
       "      <td>3.4</td>\n",
       "      <td>5.9</td>\n",
       "      <td>...</td>\n",
       "      <td>.735</td>\n",
       "      <td>2.0</td>\n",
       "      <td>5.3</td>\n",
       "      <td>7.3</td>\n",
       "      <td>2.2</td>\n",
       "      <td>0.9</td>\n",
       "      <td>0.8</td>\n",
       "      <td>1.5</td>\n",
       "      <td>2.5</td>\n",
       "      <td>8.9</td>\n",
       "    </tr>\n",
       "  </tbody>\n",
       "</table>\n",
       "<p>5 rows × 30 columns</p>\n",
       "</div>"
      ],
      "text/plain": [
       "  Rk        Player Pos Age   Tm   G  GS    MP   FG   FGA  ...   FT%  ORB  DRB  \\\n",
       "0  1  Álex Abrines  SG  25  OKC  31   2  19.0  1.8   5.1  ...  .923  0.2  1.4   \n",
       "1  2    Quincy Acy  PF  28  PHO  10   0  12.3  0.4   1.8  ...  .700  0.3  2.2   \n",
       "2  3  Jaylen Adams  PG  22  ATL  34   1  12.6  1.1   3.2  ...  .778  0.3  1.4   \n",
       "3  4  Steven Adams   C  25  OKC  80  80  33.4  6.0  10.1  ...  .500  4.9  4.6   \n",
       "4  5   Bam Adebayo   C  21  MIA  82  28  23.3  3.4   5.9  ...  .735  2.0  5.3   \n",
       "\n",
       "   TRB  AST  STL  BLK  TOV   PF   PTS  \n",
       "0  1.5  0.6  0.5  0.2  0.5  1.7   5.3  \n",
       "1  2.5  0.8  0.1  0.4  0.4  2.4   1.7  \n",
       "2  1.8  1.9  0.4  0.1  0.8  1.3   3.2  \n",
       "3  9.5  1.6  1.5  1.0  1.7  2.6  13.9  \n",
       "4  7.3  2.2  0.9  0.8  1.5  2.5   8.9  \n",
       "\n",
       "[5 rows x 30 columns]"
      ]
     },
     "execution_count": 20,
     "metadata": {},
     "output_type": "execute_result"
    }
   ],
   "source": [
    "nba.head()"
   ]
  },
  {
   "cell_type": "markdown",
   "id": "7ee036b3-2667-4094-81ee-f8207b6a6a5e",
   "metadata": {},
   "source": [
    "## Complex example"
   ]
  },
  {
   "cell_type": "code",
   "execution_count": 21,
   "id": "b07d3b95-36ce-421f-93e8-4cc0db537673",
   "metadata": {},
   "outputs": [],
   "source": [
    "import requests"
   ]
  },
  {
   "cell_type": "code",
   "execution_count": 22,
   "id": "bb7aee5d-1f77-4c3f-87ee-5f45d4eaf5b2",
   "metadata": {},
   "outputs": [],
   "source": [
    "html_url = \"https://en.wikipedia.org/wiki/The_Simpsons\""
   ]
  },
  {
   "cell_type": "code",
   "execution_count": 23,
   "id": "1c0d809d-8b29-4b6f-8bf3-e08a6db34b31",
   "metadata": {},
   "outputs": [],
   "source": [
    "r = requests.get(html_url)"
   ]
  },
  {
   "cell_type": "code",
   "execution_count": 24,
   "id": "9b5359f0-f915-4035-8328-62ef9a29f6e0",
   "metadata": {},
   "outputs": [],
   "source": [
    "wiki_tables = pd.read_html(r.text, header=0)"
   ]
  },
  {
   "cell_type": "code",
   "execution_count": 25,
   "id": "47d69f77-c328-41cf-8997-1b92dd00baba",
   "metadata": {},
   "outputs": [
    {
     "data": {
      "text/plain": [
       "31"
      ]
     },
     "execution_count": 25,
     "metadata": {},
     "output_type": "execute_result"
    }
   ],
   "source": [
    "len(wiki_tables)"
   ]
  },
  {
   "cell_type": "code",
   "execution_count": 26,
   "id": "0ee34a45-17b4-4283-9044-d0a128caa98d",
   "metadata": {},
   "outputs": [],
   "source": [
    "simpsons = wiki_tables[1]"
   ]
  },
  {
   "cell_type": "code",
   "execution_count": 27,
   "id": "51be47e3-f3a9-4ebf-bb0c-7ac6b4d5c34e",
   "metadata": {},
   "outputs": [
    {
     "data": {
      "text/html": [
       "<div>\n",
       "<style scoped>\n",
       "    .dataframe tbody tr th:only-of-type {\n",
       "        vertical-align: middle;\n",
       "    }\n",
       "\n",
       "    .dataframe tbody tr th {\n",
       "        vertical-align: top;\n",
       "    }\n",
       "\n",
       "    .dataframe thead th {\n",
       "        text-align: right;\n",
       "    }\n",
       "</style>\n",
       "<table border=\"1\" class=\"dataframe\">\n",
       "  <thead>\n",
       "    <tr style=\"text-align: right;\">\n",
       "      <th></th>\n",
       "      <th>Season</th>\n",
       "      <th>Season.1</th>\n",
       "      <th>No. ofepisodes</th>\n",
       "      <th>Originally aired</th>\n",
       "      <th>Originally aired.1</th>\n",
       "      <th>Originally aired.2</th>\n",
       "      <th>Viewership</th>\n",
       "      <th>Viewership.1</th>\n",
       "      <th>Viewership.2</th>\n",
       "    </tr>\n",
       "  </thead>\n",
       "  <tbody>\n",
       "    <tr>\n",
       "      <th>0</th>\n",
       "      <td>Season</td>\n",
       "      <td>Season</td>\n",
       "      <td>No. ofepisodes</td>\n",
       "      <td>Season premiere</td>\n",
       "      <td>Season finale</td>\n",
       "      <td>Time slot (ET)</td>\n",
       "      <td>Avg. viewers(in millions)</td>\n",
       "      <td>Most watched episode</td>\n",
       "      <td>Most watched episode</td>\n",
       "    </tr>\n",
       "    <tr>\n",
       "      <th>1</th>\n",
       "      <td>Season</td>\n",
       "      <td>Season</td>\n",
       "      <td>No. ofepisodes</td>\n",
       "      <td>Season premiere</td>\n",
       "      <td>Season finale</td>\n",
       "      <td>Time slot (ET)</td>\n",
       "      <td>Avg. viewers(in millions)</td>\n",
       "      <td>Viewers(millions)</td>\n",
       "      <td>Episode title</td>\n",
       "    </tr>\n",
       "    <tr>\n",
       "      <th>2</th>\n",
       "      <td>1</td>\n",
       "      <td>1989–90</td>\n",
       "      <td>13</td>\n",
       "      <td>December 17, 1989</td>\n",
       "      <td>May 13, 1990</td>\n",
       "      <td>Sunday 8:30 pm</td>\n",
       "      <td>27.8</td>\n",
       "      <td>33.5</td>\n",
       "      <td>\"Life on the Fast Lane\"</td>\n",
       "    </tr>\n",
       "    <tr>\n",
       "      <th>3</th>\n",
       "      <td>2</td>\n",
       "      <td>1990–91</td>\n",
       "      <td>22</td>\n",
       "      <td>October 11, 1990</td>\n",
       "      <td>July 11, 1991</td>\n",
       "      <td>Thursday 8:00 pm</td>\n",
       "      <td>24.4</td>\n",
       "      <td>33.6</td>\n",
       "      <td>\"Bart Gets an 'F'\"</td>\n",
       "    </tr>\n",
       "    <tr>\n",
       "      <th>4</th>\n",
       "      <td>3</td>\n",
       "      <td>1991–92</td>\n",
       "      <td>24</td>\n",
       "      <td>September 19, 1991</td>\n",
       "      <td>August 27, 1992</td>\n",
       "      <td>Thursday 8:00 pm</td>\n",
       "      <td>21.8</td>\n",
       "      <td>25.5</td>\n",
       "      <td>\"Colonel Homer\"</td>\n",
       "    </tr>\n",
       "  </tbody>\n",
       "</table>\n",
       "</div>"
      ],
      "text/plain": [
       "   Season Season.1  No. ofepisodes    Originally aired Originally aired.1  \\\n",
       "0  Season   Season  No. ofepisodes     Season premiere      Season finale   \n",
       "1  Season   Season  No. ofepisodes     Season premiere      Season finale   \n",
       "2       1  1989–90              13   December 17, 1989       May 13, 1990   \n",
       "3       2  1990–91              22    October 11, 1990      July 11, 1991   \n",
       "4       3  1991–92              24  September 19, 1991    August 27, 1992   \n",
       "\n",
       "  Originally aired.2                 Viewership          Viewership.1  \\\n",
       "0     Time slot (ET)  Avg. viewers(in millions)  Most watched episode   \n",
       "1     Time slot (ET)  Avg. viewers(in millions)     Viewers(millions)   \n",
       "2     Sunday 8:30 pm                       27.8                  33.5   \n",
       "3   Thursday 8:00 pm                       24.4                  33.6   \n",
       "4   Thursday 8:00 pm                       21.8                  25.5   \n",
       "\n",
       "              Viewership.2  \n",
       "0     Most watched episode  \n",
       "1            Episode title  \n",
       "2  \"Life on the Fast Lane\"  \n",
       "3       \"Bart Gets an 'F'\"  \n",
       "4          \"Colonel Homer\"  "
      ]
     },
     "execution_count": 27,
     "metadata": {},
     "output_type": "execute_result"
    }
   ],
   "source": [
    "simpsons.head()"
   ]
  },
  {
   "cell_type": "code",
   "execution_count": 28,
   "id": "b2779ab4-f071-4c56-88f8-b708bcc8fcb7",
   "metadata": {},
   "outputs": [],
   "source": [
    "simpsons.drop([0, 1], inplace=True)"
   ]
  },
  {
   "cell_type": "code",
   "execution_count": 29,
   "id": "70079575-0bfa-4a1a-bff3-8d36f52db403",
   "metadata": {},
   "outputs": [],
   "source": [
    "simpsons.set_index('Season', inplace=True)"
   ]
  },
  {
   "cell_type": "code",
   "execution_count": 30,
   "id": "a05ae122-bef3-4a0c-aa04-5ff53ff5f20a",
   "metadata": {},
   "outputs": [
    {
     "data": {
      "text/plain": [
       "array(['13', '22', '24', '25', '23', '21', '20'], dtype=object)"
      ]
     },
     "execution_count": 30,
     "metadata": {},
     "output_type": "execute_result"
    }
   ],
   "source": [
    "simpsons['No. ofepisodes'].unique()"
   ]
  },
  {
   "cell_type": "code",
   "execution_count": 31,
   "id": "5a4e523b-d460-4a74-b030-f16baf1d892f",
   "metadata": {},
   "outputs": [],
   "source": [
    "simpsons = simpsons.loc[simpsons['No. ofepisodes'] != 'TBA']"
   ]
  },
  {
   "cell_type": "code",
   "execution_count": 34,
   "id": "e7d5157a-14ae-4f50-90a2-5e159ea2bbf8",
   "metadata": {},
   "outputs": [],
   "source": [
    "min_season = simpsons['No. ofepisodes'].min()"
   ]
  },
  {
   "cell_type": "code",
   "execution_count": 35,
   "id": "b1034384-3a4e-4660-99f8-0801cf313791",
   "metadata": {},
   "outputs": [
    {
     "data": {
      "text/plain": [
       "'13'"
      ]
     },
     "execution_count": 35,
     "metadata": {},
     "output_type": "execute_result"
    }
   ],
   "source": [
    "min_season"
   ]
  },
  {
   "cell_type": "code",
   "execution_count": 37,
   "id": "04551ba7-79be-421f-a848-69fa6139a0e8",
   "metadata": {},
   "outputs": [
    {
     "data": {
      "text/html": [
       "<div>\n",
       "<style scoped>\n",
       "    .dataframe tbody tr th:only-of-type {\n",
       "        vertical-align: middle;\n",
       "    }\n",
       "\n",
       "    .dataframe tbody tr th {\n",
       "        vertical-align: top;\n",
       "    }\n",
       "\n",
       "    .dataframe thead th {\n",
       "        text-align: right;\n",
       "    }\n",
       "</style>\n",
       "<table border=\"1\" class=\"dataframe\">\n",
       "  <thead>\n",
       "    <tr style=\"text-align: right;\">\n",
       "      <th></th>\n",
       "      <th>Season.1</th>\n",
       "      <th>No. ofepisodes</th>\n",
       "      <th>Originally aired</th>\n",
       "      <th>Originally aired.1</th>\n",
       "      <th>Originally aired.2</th>\n",
       "      <th>Viewership</th>\n",
       "      <th>Viewership.1</th>\n",
       "      <th>Viewership.2</th>\n",
       "    </tr>\n",
       "    <tr>\n",
       "      <th>Season</th>\n",
       "      <th></th>\n",
       "      <th></th>\n",
       "      <th></th>\n",
       "      <th></th>\n",
       "      <th></th>\n",
       "      <th></th>\n",
       "      <th></th>\n",
       "      <th></th>\n",
       "    </tr>\n",
       "  </thead>\n",
       "  <tbody>\n",
       "    <tr>\n",
       "      <th>1</th>\n",
       "      <td>1989–90</td>\n",
       "      <td>13</td>\n",
       "      <td>December 17, 1989</td>\n",
       "      <td>May 13, 1990</td>\n",
       "      <td>Sunday 8:30 pm</td>\n",
       "      <td>27.8</td>\n",
       "      <td>33.5</td>\n",
       "      <td>\"Life on the Fast Lane\"</td>\n",
       "    </tr>\n",
       "  </tbody>\n",
       "</table>\n",
       "</div>"
      ],
      "text/plain": [
       "       Season.1 No. ofepisodes   Originally aired Originally aired.1  \\\n",
       "Season                                                                 \n",
       "1       1989–90             13  December 17, 1989       May 13, 1990   \n",
       "\n",
       "       Originally aired.2 Viewership Viewership.1             Viewership.2  \n",
       "Season                                                                      \n",
       "1          Sunday 8:30 pm       27.8         33.5  \"Life on the Fast Lane\"  "
      ]
     },
     "execution_count": 37,
     "metadata": {},
     "output_type": "execute_result"
    }
   ],
   "source": [
    "simpsons.loc[simpsons['No. ofepisodes'] == min_season]"
   ]
  },
  {
   "cell_type": "code",
   "execution_count": 38,
   "id": "d47ae737-6fa1-486f-9622-4a333d7f24d1",
   "metadata": {},
   "outputs": [],
   "source": [
    "simpsons.to_csv('files/simpsons.csv')"
   ]
  },
  {
   "cell_type": "code",
   "execution_count": 40,
   "id": "343f5ccf-d24e-4d1e-9e71-e164ae32675c",
   "metadata": {},
   "outputs": [
    {
     "data": {
      "text/html": [
       "<div>\n",
       "<style scoped>\n",
       "    .dataframe tbody tr th:only-of-type {\n",
       "        vertical-align: middle;\n",
       "    }\n",
       "\n",
       "    .dataframe tbody tr th {\n",
       "        vertical-align: top;\n",
       "    }\n",
       "\n",
       "    .dataframe thead th {\n",
       "        text-align: right;\n",
       "    }\n",
       "</style>\n",
       "<table border=\"1\" class=\"dataframe\">\n",
       "  <thead>\n",
       "    <tr style=\"text-align: right;\">\n",
       "      <th></th>\n",
       "      <th>Season.1</th>\n",
       "      <th>No. ofepisodes</th>\n",
       "      <th>Originally aired</th>\n",
       "      <th>Originally aired.1</th>\n",
       "      <th>Originally aired.2</th>\n",
       "      <th>Viewership</th>\n",
       "      <th>Viewership.1</th>\n",
       "      <th>Viewership.2</th>\n",
       "    </tr>\n",
       "    <tr>\n",
       "      <th>Season</th>\n",
       "      <th></th>\n",
       "      <th></th>\n",
       "      <th></th>\n",
       "      <th></th>\n",
       "      <th></th>\n",
       "      <th></th>\n",
       "      <th></th>\n",
       "      <th></th>\n",
       "    </tr>\n",
       "  </thead>\n",
       "  <tbody>\n",
       "    <tr>\n",
       "      <th>1</th>\n",
       "      <td>1989–90</td>\n",
       "      <td>13</td>\n",
       "      <td>December 17, 1989</td>\n",
       "      <td>May 13, 1990</td>\n",
       "      <td>Sunday 8:30 pm</td>\n",
       "      <td>27.8</td>\n",
       "      <td>33.5</td>\n",
       "      <td>\"Life on the Fast Lane\"</td>\n",
       "    </tr>\n",
       "    <tr>\n",
       "      <th>2</th>\n",
       "      <td>1990–91</td>\n",
       "      <td>22</td>\n",
       "      <td>October 11, 1990</td>\n",
       "      <td>July 11, 1991</td>\n",
       "      <td>Thursday 8:00 pm</td>\n",
       "      <td>24.4</td>\n",
       "      <td>33.6</td>\n",
       "      <td>\"Bart Gets an 'F'\"</td>\n",
       "    </tr>\n",
       "    <tr>\n",
       "      <th>3</th>\n",
       "      <td>1991–92</td>\n",
       "      <td>24</td>\n",
       "      <td>September 19, 1991</td>\n",
       "      <td>August 27, 1992</td>\n",
       "      <td>Thursday 8:00 pm</td>\n",
       "      <td>21.8</td>\n",
       "      <td>25.5</td>\n",
       "      <td>\"Colonel Homer\"</td>\n",
       "    </tr>\n",
       "    <tr>\n",
       "      <th>4</th>\n",
       "      <td>1992–93</td>\n",
       "      <td>22</td>\n",
       "      <td>September 24, 1992</td>\n",
       "      <td>May 13, 1993</td>\n",
       "      <td>Thursday 8:00 pm</td>\n",
       "      <td>22.4</td>\n",
       "      <td>28.6</td>\n",
       "      <td>\"Lisa's First Word\"</td>\n",
       "    </tr>\n",
       "    <tr>\n",
       "      <th>5</th>\n",
       "      <td>1993–94</td>\n",
       "      <td>22</td>\n",
       "      <td>September 30, 1993</td>\n",
       "      <td>May 19, 1994</td>\n",
       "      <td>Thursday 8:00 pm</td>\n",
       "      <td>18.9</td>\n",
       "      <td>24.0</td>\n",
       "      <td>\"Treehouse of Horror IV\"</td>\n",
       "    </tr>\n",
       "  </tbody>\n",
       "</table>\n",
       "</div>"
      ],
      "text/plain": [
       "       Season.1  No. ofepisodes    Originally aired Originally aired.1  \\\n",
       "Season                                                                   \n",
       "1       1989–90              13   December 17, 1989       May 13, 1990   \n",
       "2       1990–91              22    October 11, 1990      July 11, 1991   \n",
       "3       1991–92              24  September 19, 1991    August 27, 1992   \n",
       "4       1992–93              22  September 24, 1992       May 13, 1993   \n",
       "5       1993–94              22  September 30, 1993       May 19, 1994   \n",
       "\n",
       "       Originally aired.2 Viewership Viewership.1              Viewership.2  \n",
       "Season                                                                       \n",
       "1          Sunday 8:30 pm       27.8         33.5   \"Life on the Fast Lane\"  \n",
       "2        Thursday 8:00 pm       24.4         33.6        \"Bart Gets an 'F'\"  \n",
       "3        Thursday 8:00 pm       21.8         25.5           \"Colonel Homer\"  \n",
       "4        Thursday 8:00 pm       22.4         28.6       \"Lisa's First Word\"  \n",
       "5        Thursday 8:00 pm       18.9         24.0  \"Treehouse of Horror IV\"  "
      ]
     },
     "execution_count": 40,
     "metadata": {},
     "output_type": "execute_result"
    }
   ],
   "source": [
    "pd.read_csv('files/simpsons.csv', index_col='Season').head()"
   ]
  },
  {
   "cell_type": "code",
   "execution_count": null,
   "id": "68877dd6-66e9-4c00-8b66-18d849ef3917",
   "metadata": {},
   "outputs": [],
   "source": []
  }
 ],
 "metadata": {
  "kernelspec": {
   "display_name": "Python 3",
   "language": "python",
   "name": "python3"
  },
  "language_info": {
   "codemirror_mode": {
    "name": "ipython",
    "version": 3
   },
   "file_extension": ".py",
   "mimetype": "text/x-python",
   "name": "python",
   "nbconvert_exporter": "python",
   "pygments_lexer": "ipython3",
   "version": "3.6.9"
  }
 },
 "nbformat": 4,
 "nbformat_minor": 5
}
